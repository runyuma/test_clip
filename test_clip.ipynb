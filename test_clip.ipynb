{
 "cells": [
  {
   "attachments": {},
   "cell_type": "markdown",
   "metadata": {},
   "source": [
    "# Test clip"
   ]
  },
  {
   "cell_type": "code",
   "execution_count": 1,
   "metadata": {},
   "outputs": [
    {
     "name": "stdout",
     "output_type": "stream",
     "text": [
      "device: cuda\n"
     ]
    }
   ],
   "source": [
    "import torch\n",
    "import clip\n",
    "from PIL import Image\n",
    "import numpy as np\n",
    "import cv2\n",
    "device = \"cuda\" if torch.cuda.is_available() else \"cpu\"\n",
    "print(\"device:\", device)"
   ]
  },
  {
   "cell_type": "code",
   "execution_count": 2,
   "metadata": {},
   "outputs": [],
   "source": [
    "# Load the data\n",
    "model, preprocess = clip.load(\"RN50\", device=device)\n",
    "# print(\"model:\", model.input_resolution.item())\n"
   ]
  },
  {
   "cell_type": "code",
   "execution_count": 11,
   "metadata": {},
   "outputs": [
    {
     "name": "stdout",
     "output_type": "stream",
     "text": [
      "['RN50', 'RN101', 'RN50x4', 'RN50x16', 'RN50x64', 'ViT-B/32', 'ViT-B/16', 'ViT-L/14', 'ViT-L/14@336px']\n"
     ]
    }
   ],
   "source": [
    "print(clip.available_models())"
   ]
  },
  {
   "attachments": {},
   "cell_type": "markdown",
   "metadata": {},
   "source": [
    "## how CLIPort encode image\n",
    "prepool_im() in class ModifiedResNet(nn.Module) in clip.py\n",
    "\n",
    "out_put size [1, 2048, 10, 5]"
   ]
  },
  {
   "cell_type": "code",
   "execution_count": 5,
   "metadata": {},
   "outputs": [],
   "source": [
    "image_name = \"image_record/assembling-kitsn_0step0.png\"\n",
    "image = cv2.imread(image_name)\n",
    "\n",
    "image = image.transpose((2, 0, 1))\n",
    "image = torch.tensor(image, dtype=torch.float32).reshape(1,image.shape[0],image.shape[1],image.shape[2]).to(device)\n",
    "\n",
    "from cliport.models.clip_lingunet import CLIPLingUNet\n",
    "from cliport.utils import utils\n",
    "from cliport.models.core.clip import build_model, load_clip, tokenize\n",
    "def _load_clip(device):\n",
    "    model, _ = load_clip(\"RN50\", device=device)\n",
    "    clip_rn50 = build_model(model.state_dict()).to(device)\n",
    "    del model\n",
    "    return clip_rn50\n",
    "clip_rn50 = _load_clip(device)\n",
    "def encode_image(clip_rn50,img):\n",
    "    with torch.no_grad():\n",
    "        img_encoding, img_im = clip_rn50.visual.prepool_im(img)\n",
    "    return img_encoding, img_im"
   ]
  },
  {
   "cell_type": "code",
   "execution_count": 64,
   "metadata": {},
   "outputs": [
    {
     "name": "stdout",
     "output_type": "stream",
     "text": [
      "torch.Size([1, 3, 320, 160])\n",
      "torch.Size([1, 2048, 10, 5])\n"
     ]
    }
   ],
   "source": [
    "image = utils.preprocess(image, dist='clip')\n",
    "# image1_features = clip_rn50.encode_image(image)\n",
    "image1_features,_ =encode_image(clip_rn50,image)\n",
    "print(image.shape)\n",
    "print(image1_features.shape)"
   ]
  },
  {
   "cell_type": "code",
   "execution_count": 14,
   "metadata": {},
   "outputs": [],
   "source": [
    "image1 = preprocess(Image.open(\"sdh1.png\")).unsqueeze(0).to(device)\n",
    "image2 = preprocess(Image.open(\"sdh2.png\")).unsqueeze(0).to(device)\n",
    "image3 = preprocess(Image.open(\"sdh3.png\")).unsqueeze(0).to(device)\n",
    "image4 = preprocess(Image.open(\"camera manipulator1.png\")).unsqueeze(0).to(device)\n",
    "text = clip.tokenize([\"an opened robot hand\", \"a closed robot hand\", \"a cat\"]).to(device)"
   ]
  },
  {
   "cell_type": "code",
   "execution_count": 15,
   "metadata": {},
   "outputs": [
    {
     "name": "stdout",
     "output_type": "stream",
     "text": [
      "1024\n",
      "[[0.99902344 0.97021484 0.93457031 0.63330078]\n",
      " [0.97021484 1.         0.94580078 0.63037109]\n",
      " [0.93457031 0.94580078 0.99951172 0.60742188]\n",
      " [0.63330078 0.63037109 0.60742188 1.00097656]]\n"
     ]
    }
   ],
   "source": [
    "\n",
    "image1_features = model.encode_image(image1)\n",
    "image2_features = model.encode_image(image2)\n",
    "image3_features = model.encode_image(image3)\n",
    "image4_features = model.encode_image(image4)\n",
    "print(len(image1_features[0]))\n",
    "image1_features /= image1_features.norm(dim=-1, keepdim=True)\n",
    "image2_features /= image2_features.norm(dim=-1, keepdim=True)\n",
    "image3_features /= image3_features.norm(dim=-1, keepdim=True)\n",
    "image4_features /= image4_features.norm(dim=-1, keepdim=True)\n",
    "images = [image1, image2, image3, image4]\n",
    "images_features = [image1_features, image2_features, image3_features, image4_features]\n",
    "sim_mat = np.zeros((4,4))\n",
    "for i in range(4):\n",
    "    for j in range(4):\n",
    "        sim_mat[i,j] = images_features[i] @ images_features[j].T\n",
    "\n",
    "print(sim_mat)"
   ]
  },
  {
   "cell_type": "code",
   "execution_count": 47,
   "metadata": {},
   "outputs": [
    {
     "name": "stdout",
     "output_type": "stream",
     "text": [
      "Label probs: [[4.5703e-01 5.4297e-01 1.1575e-04]]\n",
      "Label probs: [[4.338e-01 5.659e-01 7.915e-05]]\n",
      "Label probs: [[3.923e-01 6.074e-01 9.626e-05]]\n",
      "Label probs: [[2.815e-01 7.188e-01 2.801e-06]]\n"
     ]
    }
   ],
   "source": [
    "with torch.no_grad():\n",
    "    for image in images:\n",
    "        image_features = model.encode_image(image)\n",
    "        text_features = model.encode_text(text)\n",
    "        \n",
    "        logits_per_image, logits_per_text = model(image, text)\n",
    "        probs = logits_per_image.softmax(dim=-1).cpu().numpy()\n",
    "\n",
    "        print(\"Label probs:\", probs)  # prints: [[0.9927937  0.00421068 0.00299572]]"
   ]
  },
  {
   "attachments": {},
   "cell_type": "markdown",
   "metadata": {},
   "source": [
    "## TEST in CLIPort\n",
    "\n"
   ]
  },
  {
   "cell_type": "code",
   "execution_count": 4,
   "metadata": {},
   "outputs": [],
   "source": [
    "# 1 episode different stage\n",
    "task_name = \"stack-block-pyramid-seq-seen-colors\"\n",
    "ep_id = 0\n",
    "image_names = [\"image_record/\"+task_name+'n_'+str(ep_id)+'step'+str(i)+'.png' for i in range(7)]\n",
    "images = [preprocess(Image.open(image_name)).unsqueeze(0).to(device) for image_name in image_names]\n",
    "image_features = [model.encode_image(image) for image in images]\n",
    "image_features = [image_feature/image_feature.norm(dim=-1, keepdim=True) for image_feature in image_features]\n"
   ]
  },
  {
   "cell_type": "code",
   "execution_count": 5,
   "metadata": {},
   "outputs": [
    {
     "name": "stdout",
     "output_type": "stream",
     "text": [
      "[[0.99999946 0.98593503 0.98746449 0.97904754 0.98013985 0.97170478\n",
      "  0.98805588]\n",
      " [0.98593503 1.00000036 0.99654639 0.99122798 0.99516851 0.98802638\n",
      "  0.99758804]\n",
      " [0.98746449 0.99654639 1.00000083 0.98529696 0.99206954 0.98174703\n",
      "  0.99681866]\n",
      " [0.97904754 0.99122798 0.98529696 1.00000036 0.99379009 0.99554121\n",
      "  0.99111599]\n",
      " [0.98013985 0.99516851 0.99206954 0.99379009 0.99999976 0.99153864\n",
      "  0.99695808]\n",
      " [0.97170478 0.98802638 0.98174703 0.99554121 0.99153864 1.00000072\n",
      "  0.98806453]\n",
      " [0.98805588 0.99758804 0.99681866 0.99111599 0.99695808 0.98806453\n",
      "  0.99999952]]\n"
     ]
    }
   ],
   "source": [
    "num = len(image_features)\n",
    "sim_mat = np.zeros((num,num))\n",
    "for i in range(num):\n",
    "    for j in range(num):\n",
    "        sim_mat[i,j] = image_features[i] @ image_features[j].T\n",
    "\n",
    "print(sim_mat)"
   ]
  },
  {
   "cell_type": "code",
   "execution_count": 10,
   "metadata": {},
   "outputs": [],
   "source": [
    "# 1 episode different stage\n",
    "task_name = \"stack-block-pyramid-seq-seen-colors\"\n",
    "ep_id = 1\n",
    "# image_names = [\"image_record/\"+task_name+'n_'+str(ep_id)+'step'+str(i)+'.png' for i in range(6)]\n",
    "image_names = [\"image_record/\"+task_name+'n_'+str(i)+'step'+str(0)+'.png' for i in range(6)]\n",
    "images = [preprocess(Image.open(image_name)).unsqueeze(0).to(device) for image_name in image_names]\n",
    "image_features = [model.encode_image(image) for image in images]\n",
    "image_features = [image_feature/image_feature.norm(dim=-1, keepdim=True) for image_feature in image_features]"
   ]
  },
  {
   "cell_type": "code",
   "execution_count": 11,
   "metadata": {},
   "outputs": [
    {
     "name": "stdout",
     "output_type": "stream",
     "text": [
      "[[0.99999946 0.9258256  0.88833207 0.90622616 0.80493432 0.83917588]\n",
      " [0.9258256  1.00000095 0.94478595 0.97157902 0.94428623 0.95867586]\n",
      " [0.88833207 0.94478595 1.00000048 0.94958198 0.90626055 0.95097524]\n",
      " [0.90622616 0.97157902 0.94958198 0.99999994 0.94750768 0.96925819]\n",
      " [0.80493432 0.94428623 0.90626055 0.94750768 1.         0.97149122]\n",
      " [0.83917588 0.95867586 0.95097524 0.96925819 0.97149122 1.00000048]]\n"
     ]
    }
   ],
   "source": [
    "num = len(image_features)\n",
    "sim_mat = np.zeros((num,num))\n",
    "for i in range(num):\n",
    "    for j in range(num):\n",
    "        sim_mat[i,j] = image_features[i] @ image_features[j].T\n",
    "\n",
    "print(sim_mat)"
   ]
  },
  {
   "cell_type": "code",
   "execution_count": 12,
   "metadata": {},
   "outputs": [
    {
     "name": "stdout",
     "output_type": "stream",
     "text": [
      "Label probs: [[0.49248514 0.5075149 ]]\n",
      "Label probs: [[0.516957   0.48304304]]\n",
      "Label probs: [[0.46220043 0.5377996 ]]\n",
      "Label probs: [[0.5732114 0.4267886]]\n",
      "Label probs: [[0.6207339  0.37926614]]\n",
      "Label probs: [[0.5521341  0.44786584]]\n"
     ]
    }
   ],
   "source": [
    "text = clip.tokenize([\"five blocks on the table\", \"six blocks on the table\"]).to(device)\n",
    "with torch.no_grad():\n",
    "    for image in images:\n",
    "        image_features = model.encode_image(image)\n",
    "        text_features = model.encode_text(text)\n",
    "        \n",
    "        logits_per_image, logits_per_text = model(image, text)\n",
    "        probs = logits_per_image.softmax(dim=-1).cpu().numpy()\n",
    "\n",
    "        print(\"Label probs:\", probs)  # prints: [[0.9927937  0.00421068 0.00299572]]"
   ]
  },
  {
   "cell_type": "code",
   "execution_count": 11,
   "metadata": {},
   "outputs": [
    {
     "name": "stdout",
     "output_type": "stream",
     "text": [
      "Label probs: [[0.3074 0.693 ]]\n",
      "Label probs: [[0.3208 0.679 ]]\n",
      "cosine similarity: tensor([[0.9741]], device='cuda:0', dtype=torch.float16)\n",
      "Label probs: [[0.3174 0.6826]]\n",
      "Label probs: [[0.304 0.696]]\n",
      "cosine similarity: tensor([[0.9771]], device='cuda:0', dtype=torch.float16)\n",
      "Label probs: [[0.2751 0.725 ]]\n",
      "Label probs: [[0.3486 0.6514]]\n",
      "cosine similarity: tensor([[0.9795]], device='cuda:0', dtype=torch.float16)\n"
     ]
    }
   ],
   "source": [
    "image_names = [[\"image_record/assembling-kitsn_0step0.png\",\"image_record/assembling-kitsn_0step1.png\"],\n",
    "               [\"image_record/assembling-kitsn_1step3.png\",\"image_record/assembling-kitsn_1step4.png\"],\n",
    "               [\"image_record/assembling-kitsn_2step2.png\",\"image_record/assembling-kitsn_2step3.png\"],]\n",
    "\n",
    "images = [[preprocess(Image.open(image_name)).unsqueeze(0).to(device) for image_name in _image_names] for _image_names in image_names]\n",
    "text = clip.tokenize([\"L shape block in L shape hole\", \"L shape block not in L shape hole\"]).to(device)\n",
    "with torch.no_grad():\n",
    "    for _images in images:\n",
    "        for image in _images:\n",
    "            image_features = model.encode_image(image)\n",
    "            text_features = model.encode_text(text)\n",
    "            \n",
    "            logits_per_image, logits_per_text = model(image, text)\n",
    "            probs = logits_per_image.softmax(dim=-1).cpu().numpy()\n",
    "\n",
    "            print(\"Label probs:\", probs)\n",
    "        image_features = [model.encode_image(image) for image in _images]\n",
    "        image_features = [image_feature/image_feature.norm(dim=-1, keepdim=True) for image_feature in image_features]\n",
    "        print(\"cosine similarity:\", image_features[0] @ image_features[1].T)"
   ]
  },
  {
   "cell_type": "code",
   "execution_count": 8,
   "metadata": {},
   "outputs": [
    {
     "name": "stderr",
     "output_type": "stream",
     "text": [
      "Clipping input data to the valid range for imshow with RGB data ([0..1] for floats or [0..255] for integers).\n",
      "Clipping input data to the valid range for imshow with RGB data ([0..1] for floats or [0..255] for integers).\n",
      "Clipping input data to the valid range for imshow with RGB data ([0..1] for floats or [0..255] for integers).\n"
     ]
    },
    {
     "data": {
      "image/png": "[encoded data removed]",
      "text/plain": [
       "<Figure size 1200x400 with 3 Axes>"
      ]
     },
     "metadata": {},
     "output_type": "display_data"
    },
    {
     "data": {
      "image/png": "[encoded data removed]",
      "text/plain": [
       "<Figure size 500x500 with 1 Axes>"
      ]
     },
     "metadata": {},
     "output_type": "display_data"
    }
   ],
   "source": [
    "import itertools\n",
    "import matplotlib.pyplot as plt\n",
    "image_names = [\"image_record/block-insertion-translationn_6step0.png\",\"image_record/block-insertion-translationn_6step1.png\",\"image_record/block-insertion-translationn_6step2.png\"]\n",
    "# images = [preprocess(Image.open(image_name)).unsqueeze(0).to(device) for image_name in image_names]\n",
    "images = [cv2.imread(image_name) for image_name in image_names]\n",
    "# null_image = np.ones_like(images[0][:,:80,:])*45\n",
    "# images = [np.hstack([null_image,image,null_image]) for image in images]\n",
    "images = [image[160:,:,:] for image in images]\n",
    "text = clip.tokenize([\"L shape block in L shape hole\", \"L shape block not in L shape hole\"]).to(device)\n",
    "images = [preprocess(Image.fromarray(cv2.cvtColor(image, cv2.COLOR_BGR2RGB))).unsqueeze(0).to(device) for image in images]\n",
    "with torch.no_grad():\n",
    "\n",
    "    fig,ax = plt.subplots(nrows=1,ncols=3,figsize=(12,1*4))\n",
    "    images_features = []\n",
    "    # show clip label\n",
    "    for i in range(3):\n",
    "        # print(image)\n",
    "        with torch.no_grad():\n",
    "            image_features = model.encode_image(images[i])\n",
    "            images_features.append(image_features)\n",
    "            # text_features = model.encode_text(text)\n",
    "            # print(\"image_features.shape:\",image_features.shape)\n",
    "            logits_per_image, logits_per_text = model(images[i], text)\n",
    "            probs = logits_per_image.softmax(dim=-1).cpu().numpy()\n",
    "            ax[i].imshow(images[i][0].cpu().numpy().transpose(1,2,0))\n",
    "            ax[i].set_title(\"L shape block in L shape hole\"+\" probs:\"+\"%.2f\"%probs[0][0],fontsize=10)\n",
    "            ax[i].set_xticks([])\n",
    "            ax[i].set_yticks([])\n",
    "\n",
    "\n",
    "    # plt.show()\n",
    "    sim_mat = np.zeros((3,3))\n",
    "    for i in range(3):\n",
    "        for j in range(3):\n",
    "            sim_mat[i][j] = torch.cosine_similarity(images_features[i],images_features[j],dim=-1).cpu().numpy()[0]\n",
    "    plt.rcParams['xtick.bottom'] = plt.rcParams['xtick.labelbottom'] = False\n",
    "    plt.rcParams['xtick.top'] = plt.rcParams['xtick.labeltop'] = True\n",
    "    fig,ax1 = plt.subplots(nrows=1,ncols=1,figsize=(5,5))\n",
    "    \n",
    "    np.set_printoptions(formatter={'float': '{: 0.2f}'.format})\n",
    "    ax1.imshow(sim_mat,cmap=plt.cm.Blues)\n",
    "    ax1.set_title(\"cosine similarity\")\n",
    "    ax1.set_xticks(np.arange(3))\n",
    "    ax1.set_yticks(np.arange(3))\n",
    "    fmt = '.2f'\n",
    "    thresh = (sim_mat.max() + sim_mat.min())/ 2.\n",
    "    for i, j in itertools.product(range(sim_mat.shape[0]), range(sim_mat.shape[1])):\n",
    "        plt.text(j, i, format(sim_mat[i, j], fmt),\n",
    "                 horizontalalignment=\"center\",\n",
    "                 color=\"white\" if sim_mat[i, j] > thresh else \"black\"\n",
    "                 )"
   ]
  },
  {
   "cell_type": "code",
   "execution_count": 32,
   "metadata": {},
   "outputs": [
    {
     "data": {
      "application/vnd.jupyter.widget-view+json": {
       "model_id": "3ec984359d3f4a0581f4c5b89a241238",
       "version_major": 2,
       "version_minor": 0
      },
      "text/plain": [
       "interactive(children=(Dropdown(description='x', options=(0, 1), value=0), Output()), _dom_classes=('widget-int…"
      ]
     },
     "metadata": {},
     "output_type": "display_data"
    }
   ],
   "source": [
    "from ipywidgets import interact, interactive, fixed, interact_manual\n",
    "import ipywidgets as widgets\n",
    "\n",
    "def f(x):\n",
    "    interact(g, y=fruits[x]);\n",
    "def g(y):\n",
    "    print(y)\n",
    "fruits = [['apple','apples'],['orange','oranges']]\n",
    "interact(f, x=[0,1]);"
   ]
  },
  {
   "cell_type": "code",
   "execution_count": 29,
   "metadata": {},
   "outputs": [
    {
     "data": {
      "application/vnd.jupyter.widget-view+json": {
       "model_id": "bfbcd3e1b91243e9ace90ecb18cd48a2",
       "version_major": 2,
       "version_minor": 0
      },
      "text/plain": [
       "HBox(children=(IntSlider(value=0), IntSlider(value=0), IntSlider(value=0)))"
      ]
     },
     "metadata": {},
     "output_type": "display_data"
    },
    {
     "data": {
      "application/vnd.jupyter.widget-view+json": {
       "model_id": "b63d47964aca44638fe511e46bee9e2c",
       "version_major": 2,
       "version_minor": 0
      },
      "text/plain": [
       "Output()"
      ]
     },
     "metadata": {},
     "output_type": "display_data"
    }
   ],
   "source": [
    "a = widgets.IntSlider()\n",
    "b = widgets.IntSlider()\n",
    "c = widgets.IntSlider()\n",
    "ui = widgets.HBox([a, b, c])\n",
    "def f(a, b, c):\n",
    "    print((a, b, c))\n",
    "\n",
    "out = widgets.interactive_output(f, {'a': a, 'b': b, 'c': c})\n",
    "\n",
    "display(ui, out)"
   ]
  },
  {
   "cell_type": "code",
   "execution_count": 9,
   "metadata": {},
   "outputs": [
    {
     "data": {
      "application/vnd.jupyter.widget-view+json": {
       "model_id": "33c2a0bbbc9342ddbdedc2f9b18145ef",
       "version_major": 2,
       "version_minor": 0
      },
      "text/plain": [
       "interactive(children=(Dropdown(description='task_name', options=('assembling-kits', 'stack-block-pyramid-seq-s…"
      ]
     },
     "metadata": {},
     "output_type": "display_data"
    }
   ],
   "source": [
    "import itertools\n",
    "tasks = [\"assembling-kits\",\n",
    "         \"stack-block-pyramid-seq-seen-colors\",\n",
    "         \"align-box-corner\",\n",
    "         \"sweeping-piles\",\n",
    "         \"block-insertion\"]\n",
    "_task_eplen = [\n",
    "    5,\n",
    "    6,\n",
    "    2,\n",
    "    9,\n",
    "    2,\n",
    "]\n",
    "task_eplen = {tasks[i]:_task_eplen[i] for i in range(len(tasks))}\n",
    "\n",
    "text = [\n",
    "\"all blocks are on the hole\",\n",
    "\"blocks stacked on the blocks\",\n",
    "\"blocks are aligned with the corner\",\n",
    "\"piles are swept into the square\",\n",
    "\"block is inserted into the L-shape hole\",\n",
    "]\n",
    "text_tokens = {}\n",
    "text_tokens[\"all blocks are on the hole\"] = clip.tokenize([\"all blocks are on the hole\", \"all blocks are not on the hole\"]).to(device)\n",
    "text_tokens[\"blocks stacked on the blocks\"] = clip.tokenize([\"blocks stacked on the blocks\", \"blocks not stacked on the blocks\"]).to(device)\n",
    "text_tokens[\"blocks are aligned with the corner\"] = clip.tokenize([\"blocks are aligned with the corner\", \"blocks are not aligned with the corner\"]).to(device)\n",
    "text_tokens[\"piles are swept into the square\"] = clip.tokenize([\"piles are swept into the square\", \"piles are not swept into the square\"]).to(device)\n",
    "text_tokens[\"block is inserted into the L-shape hole\"] = clip.tokenize([\"block is inserted into the L-shape hole\", \"block is not inserted into the L-shape hole\"]).to(device)\n",
    "from ipywidgets import interact, interactive, fixed, interact_manual\n",
    "import ipywidgets as widgets\n",
    "import matplotlib.pyplot as plt\n",
    "def plot_clip_understanding(task_name,ep_id,text_label):\n",
    "    # print(\"task_name:\",task_name)\n",
    "    # print(\"ep_id:\",ep_id)\n",
    "    # print(\"text_label:\",text_label)\n",
    "    image_names = [\"image_record/\"+task_name+'n_'+str(ep_id)+'step'+str(i)+'.png' for i in range(task_eplen[task_name])]\n",
    "    \n",
    "    images = [cv2.imread(image_name) for image_name in image_names]\n",
    "    null_image = np.ones_like(images[0][:,:80,:])*45\n",
    "    images = [np.hstack([null_image,image,null_image]) for image in images]\n",
    "    images = [preprocess(Image.fromarray(cv2.cvtColor(image, cv2.COLOR_BGR2RGB))).unsqueeze(0).to(device) for image in images]\n",
    "    text = text_tokens[text_label]\n",
    "    rows = (task_eplen[task_name]-1)//3+1\n",
    "    fig,ax = plt.subplots(nrows=rows,ncols=3,figsize=(12,rows*4))\n",
    "    images_features = []\n",
    "    # show clip label\n",
    "    for i in range(task_eplen[task_name]):\n",
    "        # print(image)\n",
    "        with torch.no_grad():\n",
    "            image_features = model.encode_image(images[i])\n",
    "            images_features.append(image_features)\n",
    "            # text_features = model.encode_text(text)\n",
    "            # print(\"image_features.shape:\",image_features.shape)\n",
    "            logits_per_image, logits_per_text = model(images[i], text)\n",
    "            probs = logits_per_image.softmax(dim=-1).cpu().numpy()\n",
    "            if rows==1:\n",
    "                ax[i].imshow(images[i][0].cpu().numpy().transpose(1,2,0))\n",
    "                ax[i].set_title(text_label[:30]+\" probs:\"+\"%.2f\"%probs[0][0],fontsize=10)\n",
    "                ax[i].set_xticks([])\n",
    "                ax[i].set_yticks([])\n",
    "            else:\n",
    "                ax[i//3][i%3].imshow(images[i][0].cpu().numpy().transpose(1,2,0))\n",
    "                ax[i//3][i%3].set_title(text_label[:30]+\" probs:\"+\"%.2f\"%probs[0][0],fontsize=10)\n",
    "                ax[i//3][i%3].set_xticks([])\n",
    "                ax[i//3][i%3].set_yticks([])\n",
    "            # print(\"Label probs:\", probs)\n",
    "\n",
    "    # plt.show()\n",
    "    sim_mat = np.zeros((task_eplen[task_name],task_eplen[task_name]))\n",
    "    for i in range(task_eplen[task_name]):\n",
    "        for j in range(task_eplen[task_name]):\n",
    "            sim_mat[i][j] = torch.cosine_similarity(images_features[i],images_features[j],dim=-1).cpu().numpy()[0]\n",
    "    plt.rcParams['xtick.bottom'] = plt.rcParams['xtick.labelbottom'] = False\n",
    "    plt.rcParams['xtick.top'] = plt.rcParams['xtick.labeltop'] = True\n",
    "    fig,ax1 = plt.subplots(nrows=1,ncols=1,figsize=(5,5))\n",
    "    \n",
    "    np.set_printoptions(formatter={'float': '{: 0.2f}'.format})\n",
    "    ax1.imshow(sim_mat,cmap=plt.cm.Blues)\n",
    "    ax1.set_title(\"cosine similarity\")\n",
    "    ax1.set_xticks(np.arange(task_eplen[task_name]))\n",
    "    ax1.set_yticks(np.arange(task_eplen[task_name]))\n",
    "    fmt = '.2f'\n",
    "    thresh = (sim_mat.max() + sim_mat.min())/ 2.\n",
    "    for i, j in itertools.product(range(sim_mat.shape[0]), range(sim_mat.shape[1])):\n",
    "        plt.text(j, i, format(sim_mat[i, j], fmt),\n",
    "                 horizontalalignment=\"center\",\n",
    "                 color=\"white\" if sim_mat[i, j] > thresh else \"black\"\n",
    "                 )\n",
    "    # show cosine similarity\n",
    "\n",
    "        \n",
    "interact(plot_clip_understanding, task_name=tasks, ep_id=range(0,10), text_label=text);"
   ]
  }
 ],
 "metadata": {
  "kernelspec": {
   "display_name": "cliport",
   "language": "python",
   "name": "python3"
  },
  "language_info": {
   "codemirror_mode": {
    "name": "ipython",
    "version": 3
   },
   "file_extension": ".py",
   "mimetype": "text/x-python",
   "name": "python",
   "nbconvert_exporter": "python",
   "pygments_lexer": "ipython3",
   "version": "3.8.16"
  },
  "orig_nbformat": 4,
  "vscode": {
   "interpreter": {
    "hash": "e285e3189e2c3705550e6f1561542eb0bf2036e0fba5138d48bba9b73467e388"
   }
  }
 },
 "nbformat": 4,
 "nbformat_minor": 2
}
